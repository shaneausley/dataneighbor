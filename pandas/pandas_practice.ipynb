{
 "cells": [
  {
   "cell_type": "code",
   "execution_count": 78,
   "id": "9d8e56dc-82ff-4818-911a-a22992044120",
   "metadata": {},
   "outputs": [],
   "source": [
    "# Practice Question 1:\n",
    "# Problem: You are given a table of transactions, and your task is to write a Python function that calculates the total revenue after applying a discount rate based on the transaction amount.\n",
    "\n",
    "# Discount Structure:\n",
    "# If the transaction amount is less than $50, apply a discount of 1%.\n",
    "# If the transaction amount is $50 or more, apply a discount of 0.5%.\n",
    "# Write a function that applies the discount and returns the total revenue after applying the discount to each transaction. \n",
    "\n",
    "import pandas as pd\n",
    "\n",
    "# Create a sample DataFrame\n",
    "data = {\n",
    "    'transaction_id': [1, 2, 3, 4, 5],\n",
    "    'amount': [25.00, 50.00, 75.00, 150.00, 10.00]\n",
    "}\n",
    "\n",
    "df = pd.DataFrame(data)"
   ]
  },
  {
   "cell_type": "code",
   "execution_count": 4,
   "id": "74b967ae-4627-454e-98f8-db83aa3f8d38",
   "metadata": {},
   "outputs": [
    {
     "data": {
      "text/html": [
       "<div>\n",
       "<style scoped>\n",
       "    .dataframe tbody tr th:only-of-type {\n",
       "        vertical-align: middle;\n",
       "    }\n",
       "\n",
       "    .dataframe tbody tr th {\n",
       "        vertical-align: top;\n",
       "    }\n",
       "\n",
       "    .dataframe thead th {\n",
       "        text-align: right;\n",
       "    }\n",
       "</style>\n",
       "<table border=\"1\" class=\"dataframe\">\n",
       "  <thead>\n",
       "    <tr style=\"text-align: right;\">\n",
       "      <th></th>\n",
       "      <th>transaction_id</th>\n",
       "      <th>amount</th>\n",
       "    </tr>\n",
       "  </thead>\n",
       "  <tbody>\n",
       "    <tr>\n",
       "      <th>0</th>\n",
       "      <td>1</td>\n",
       "      <td>25.0</td>\n",
       "    </tr>\n",
       "    <tr>\n",
       "      <th>1</th>\n",
       "      <td>2</td>\n",
       "      <td>50.0</td>\n",
       "    </tr>\n",
       "    <tr>\n",
       "      <th>2</th>\n",
       "      <td>3</td>\n",
       "      <td>75.0</td>\n",
       "    </tr>\n",
       "    <tr>\n",
       "      <th>3</th>\n",
       "      <td>4</td>\n",
       "      <td>150.0</td>\n",
       "    </tr>\n",
       "    <tr>\n",
       "      <th>4</th>\n",
       "      <td>5</td>\n",
       "      <td>10.0</td>\n",
       "    </tr>\n",
       "  </tbody>\n",
       "</table>\n",
       "</div>"
      ],
      "text/plain": [
       "   transaction_id  amount\n",
       "0               1    25.0\n",
       "1               2    50.0\n",
       "2               3    75.0\n",
       "3               4   150.0\n",
       "4               5    10.0"
      ]
     },
     "execution_count": 4,
     "metadata": {},
     "output_type": "execute_result"
    }
   ],
   "source": [
    "df.head()"
   ]
  },
  {
   "cell_type": "code",
   "execution_count": 12,
   "id": "12b4b7df-bb6a-4f5b-b8f9-915ac3881f5c",
   "metadata": {},
   "outputs": [
    {
     "data": {
      "text/plain": [
       "np.float64(308.275)"
      ]
     },
     "execution_count": 12,
     "metadata": {},
     "output_type": "execute_result"
    }
   ],
   "source": [
    "# APPROACH 1 - insert then update\n",
    "\n",
    "def apply_discount_df(df, amount_column):\n",
    "    # apply 1% discount to all rows\n",
    "    df['amount_discounted'] = df[amount_column]*0.99\n",
    "    # update dicount to 0.5% for amounts of 50 or more\n",
    "    df.loc[df[amount_column] >= 50,'amount_discounted'] = df[amount_column]*0.995\n",
    "    # sum revenue\n",
    "    return df['amount_discounted'].sum()\n",
    "\n",
    "disc_rev = apply_discount_df(df, 'amount')\n",
    "disc_rev                          "
   ]
  },
  {
   "cell_type": "code",
   "execution_count": 18,
   "id": "54182fc5-cc83-4987-9f5a-1cd7f3976f5c",
   "metadata": {},
   "outputs": [
    {
     "data": {
      "text/plain": [
       "np.float64(308.275)"
      ]
     },
     "execution_count": 18,
     "metadata": {},
     "output_type": "execute_result"
    }
   ],
   "source": [
    "# APPROACH 2 - apply\n",
    "\n",
    "# create function to apply discount\n",
    "def apply_discount(x):\n",
    "    if x < 50:\n",
    "        return x*0.99\n",
    "    elif x >= 50:\n",
    "        return x*0.995\n",
    "\n",
    "# create function to sum revenue after discount\n",
    "def apply_discount_sum(df, amount_col):\n",
    "    # apply dicount in df and sum revenue\n",
    "    return df[amount_col].apply(apply_discount).sum()\n",
    "\n",
    "disc_rev_2 = apply_discount_sum(df, 'amount')\n",
    "disc_rev_2 \n"
   ]
  },
  {
   "cell_type": "code",
   "execution_count": 21,
   "id": "1054ae2a-640c-4fbb-b6c3-e1f76bc54a74",
   "metadata": {},
   "outputs": [
    {
     "data": {
      "text/plain": [
       "np.float64(308.275)"
      ]
     },
     "execution_count": 21,
     "metadata": {},
     "output_type": "execute_result"
    }
   ],
   "source": [
    "# APPROACH 3 - lambda\n",
    "def apply_discount_df_l(df, amount_col):\n",
    "    # lambda function to disocunt based on condition, then sum\n",
    "    return df[amount_col].apply(lambda x: x*0.99 if x<50 else x*0.995).sum()\n",
    "\n",
    "disc_rev_3 = apply_discount_df_l(df, 'amount')\n",
    "disc_rev_3 "
   ]
  },
  {
   "cell_type": "code",
   "execution_count": 22,
   "id": "843e2cb0-1c95-4946-9a33-79120953cfaa",
   "metadata": {},
   "outputs": [],
   "source": [
    "# Practice Question 2:\n",
    "# Problem: You are given a table of transactions, and your task is to write a Python function that calculates the total revenue after applying a discount rate based on the transaction amount.\n",
    "\n",
    "# Discount Structure:\n",
    "# If the transaction amount is less than $50, apply a discount of 1%.\n",
    "# If the transaction amount is $50 or more, apply a discount of 0.5% on the first $50 and 1.5% on any amount above $50.\n",
    "# Write a function that applies the discount and returns the total revenue after applying the discount to each transaction. \n",
    "\n",
    "import pandas as pd\n",
    "\n",
    "# Create a sample DataFrame\n",
    "data = {\n",
    "    'transaction_id': [1, 2, 3, 4, 5],\n",
    "    'amount': [25.00, 50.00, 75.00, 150.00, 10.00]\n",
    "}\n",
    "\n",
    "df = pd.DataFrame(data)"
   ]
  },
  {
   "cell_type": "code",
   "execution_count": 31,
   "id": "c90a28f2-4338-4629-b2f3-e3ff381af29a",
   "metadata": {},
   "outputs": [
    {
     "name": "stdout",
     "output_type": "stream",
     "text": [
      "307.025\n"
     ]
    }
   ],
   "source": [
    "# APPROACH 1 - apply function\n",
    "\n",
    "# write function that applies discount at the row level\n",
    "def apply_discount(x):\n",
    "    if x < 50:\n",
    "        return x*.99 # 1% discount\n",
    "    elif x >= 50:\n",
    "        return (50*.995)+((x-50)*0.985) #0.5% discount first 50, 1.5% dicount remaining\n",
    "\n",
    "def discount_revenue(df, amount_col):\n",
    "    # apply the discount to all rows in the df and sum discounted amount to get total discounted revenue\n",
    "    return df[amount_col].apply(apply_discount).sum()\n",
    "\n",
    "total_disc_rev = discount_revenue(df, 'amount') \n",
    "print(total_disc_rev)\n",
    "                        \n"
   ]
  },
  {
   "cell_type": "code",
   "execution_count": 38,
   "id": "b55da995-fad3-4094-a422-e9502caaba3c",
   "metadata": {},
   "outputs": [
    {
     "name": "stdout",
     "output_type": "stream",
     "text": [
      "307.025\n"
     ]
    }
   ],
   "source": [
    "# APPROACH 2 - insert and update\n",
    "\n",
    "def discount_revenue_via_update(df, amount_col):\n",
    "    # insert discount to all\n",
    "    df['amount_discounted'] = df[amount_col]*0.99\n",
    "    # update discount for condition above 50\n",
    "    df.loc[df[amount_col] >= 50, 'amount_discounted'] = (50*0.995) + ((df[amount_col]-50))*0.985\n",
    "    # sum revenue\n",
    "    return df['amount_discounted'].sum()\n",
    "\n",
    "total_disc_rev_2 = discount_revenue_via_update(df, 'amount') \n",
    "print(total_disc_rev_2)\n",
    "                        "
   ]
  },
  {
   "cell_type": "code",
   "execution_count": 65,
   "id": "14a098b8-b339-41e8-b2c2-5daa73b59ace",
   "metadata": {},
   "outputs": [],
   "source": [
    "# Problem:\n",
    "# Given a table of transactions (txn_data), each transaction belongs to a specific customer. Write a function to calculate the total amount of money made from these transactions after applying a discount based on the transaction amount. The discount rules are as follows:\n",
    "\n",
    "# If the transaction amount is less than $50: Apply a 1% discount.\n",
    "# If the transaction amount is between $50 and $100:\n",
    "# Apply a 0.5% discount on the first $50.\n",
    "# Apply a 1% discount on the amount between $50 and $100.\n",
    "# If the transaction amount exceeds $100:\n",
    "# Apply a 0.5% discount on the first $50.\n",
    "# Apply a 1% discount on the amount between $50 and $100.\n",
    "# Apply a 1.5% discount on the amount exceeding $100.\n",
    "# After applying the discount, group the transactions by customer_id and calculate the total discounted amount for each customer.\n",
    "import pandas as pd\n",
    "\n",
    "data = {\n",
    "    'customer_id': [1, 1, 2, 2, 3, 3, 3],\n",
    "    'amount': [45, 60, 200, 75, 30, 150, 80]\n",
    "}\n",
    "df = pd.DataFrame(data)\n"
   ]
  },
  {
   "cell_type": "code",
   "execution_count": 75,
   "id": "28533d6b-4910-40c7-8b1b-9786a304a989",
   "metadata": {},
   "outputs": [
    {
     "data": {
      "text/html": [
       "<div>\n",
       "<style scoped>\n",
       "    .dataframe tbody tr th:only-of-type {\n",
       "        vertical-align: middle;\n",
       "    }\n",
       "\n",
       "    .dataframe tbody tr th {\n",
       "        vertical-align: top;\n",
       "    }\n",
       "\n",
       "    .dataframe thead th {\n",
       "        text-align: right;\n",
       "    }\n",
       "</style>\n",
       "<table border=\"1\" class=\"dataframe\">\n",
       "  <thead>\n",
       "    <tr style=\"text-align: right;\">\n",
       "      <th></th>\n",
       "      <th>customer_id</th>\n",
       "      <th>amount_discounted</th>\n",
       "    </tr>\n",
       "  </thead>\n",
       "  <tbody>\n",
       "    <tr>\n",
       "      <th>0</th>\n",
       "      <td>1</td>\n",
       "      <td>104.20</td>\n",
       "    </tr>\n",
       "    <tr>\n",
       "      <th>1</th>\n",
       "      <td>2</td>\n",
       "      <td>272.25</td>\n",
       "    </tr>\n",
       "    <tr>\n",
       "      <th>2</th>\n",
       "      <td>3</td>\n",
       "      <td>257.65</td>\n",
       "    </tr>\n",
       "  </tbody>\n",
       "</table>\n",
       "</div>"
      ],
      "text/plain": [
       "   customer_id  amount_discounted\n",
       "0            1             104.20\n",
       "1            2             272.25\n",
       "2            3             257.65"
      ]
     },
     "execution_count": 75,
     "metadata": {},
     "output_type": "execute_result"
    }
   ],
   "source": [
    "# define function to apply dicsount based on conditions\n",
    "def apply_discount(x):\n",
    "    if x < 50: # If the transaction amount is less than $50: Apply a 1% discount.\n",
    "        return x*0.99\n",
    "    elif 50 <= x <= 100: # If the transaction amount is between $50 and $100:\n",
    "        return (50*0.995)+((x-50)*0.99)\n",
    "    elif x > 100: # If the transaction amount exceeds $100:\n",
    "        return (50*0.995)+(50*0.99)+((x-100)*0.985)\n",
    "\n",
    "def discount_df_by_customer(df, group_col, amount_col):\n",
    "    # apply function to entire df\n",
    "    df['amount_discounted'] = df[amount_col].apply(apply_discount)\n",
    "    # get revenue sum by customer\n",
    "    return df.groupby(group_col)['amount_discounted'].sum().reset_index()\n",
    "            \n",
    "disc_rev_by_cust = discount_df_by_customer(df, 'customer_id', 'amount')\n",
    "disc_rev_by_cust"
   ]
  },
  {
   "cell_type": "code",
   "execution_count": 76,
   "id": "4ce0155d-ba38-42bb-9d3b-ec8059bef308",
   "metadata": {},
   "outputs": [],
   "source": [
    "# convert dict to df\n",
    "import numpy as np\n",
    "import pandas as pd\n",
    "\n",
    "# Example dictionary data\n",
    "data = {\n",
    "    'user_1': [20, 75, 150],\n",
    "    'user_2': [50, 60, 110],\n",
    "    'user_3': [25, 55, 120],\n",
    "}\n"
   ]
  },
  {
   "cell_type": "code",
   "execution_count": 88,
   "id": "906a7f29-8d3c-4e94-a9de-bab5a590af99",
   "metadata": {},
   "outputs": [
    {
     "data": {
      "text/html": [
       "<div>\n",
       "<style scoped>\n",
       "    .dataframe tbody tr th:only-of-type {\n",
       "        vertical-align: middle;\n",
       "    }\n",
       "\n",
       "    .dataframe tbody tr th {\n",
       "        vertical-align: top;\n",
       "    }\n",
       "\n",
       "    .dataframe thead th {\n",
       "        text-align: right;\n",
       "    }\n",
       "</style>\n",
       "<table border=\"1\" class=\"dataframe\">\n",
       "  <thead>\n",
       "    <tr style=\"text-align: right;\">\n",
       "      <th></th>\n",
       "      <th>customer_id</th>\n",
       "      <th>amount</th>\n",
       "    </tr>\n",
       "  </thead>\n",
       "  <tbody>\n",
       "    <tr>\n",
       "      <th>0</th>\n",
       "      <td>1</td>\n",
       "      <td>20</td>\n",
       "    </tr>\n",
       "    <tr>\n",
       "      <th>1</th>\n",
       "      <td>1</td>\n",
       "      <td>75</td>\n",
       "    </tr>\n",
       "    <tr>\n",
       "      <th>2</th>\n",
       "      <td>1</td>\n",
       "      <td>150</td>\n",
       "    </tr>\n",
       "    <tr>\n",
       "      <th>3</th>\n",
       "      <td>2</td>\n",
       "      <td>50</td>\n",
       "    </tr>\n",
       "    <tr>\n",
       "      <th>4</th>\n",
       "      <td>2</td>\n",
       "      <td>60</td>\n",
       "    </tr>\n",
       "    <tr>\n",
       "      <th>5</th>\n",
       "      <td>2</td>\n",
       "      <td>110</td>\n",
       "    </tr>\n",
       "    <tr>\n",
       "      <th>6</th>\n",
       "      <td>3</td>\n",
       "      <td>25</td>\n",
       "    </tr>\n",
       "    <tr>\n",
       "      <th>7</th>\n",
       "      <td>3</td>\n",
       "      <td>55</td>\n",
       "    </tr>\n",
       "    <tr>\n",
       "      <th>8</th>\n",
       "      <td>3</td>\n",
       "      <td>120</td>\n",
       "    </tr>\n",
       "  </tbody>\n",
       "</table>\n",
       "</div>"
      ],
      "text/plain": [
       "  customer_id  amount\n",
       "0           1      20\n",
       "1           1      75\n",
       "2           1     150\n",
       "3           2      50\n",
       "4           2      60\n",
       "5           2     110\n",
       "6           3      25\n",
       "7           3      55\n",
       "8           3     120"
      ]
     },
     "execution_count": 88,
     "metadata": {},
     "output_type": "execute_result"
    }
   ],
   "source": [
    "# APPROACH 1 - convert to df then melt\n",
    "\n",
    "# convert to df\n",
    "df = pd.DataFrame(data).melt(var_name='customer_id', value_name='amount')\n",
    "# remove 'user' prefix from id\n",
    "df['customer_id'] = df['customer_id'].str.replace('user_', '')\n",
    "#df['customer_id'].str[5:]\n",
    "df"
   ]
  },
  {
   "cell_type": "code",
   "execution_count": 93,
   "id": "efe1cd72-a879-42b7-981c-1554ab1f1339",
   "metadata": {},
   "outputs": [],
   "source": [
    "# APPRAOCH 2 - use list comprehencino\n",
    "# Flatten the dictionary into a list of tuples\n",
    "flattened_data = [(user, txn) for user, txns in data.items() for txn in txns]\n",
    "df = pd.DataFrame(flattened_data, columns=['customer_id', 'amount'])"
   ]
  },
  {
   "cell_type": "code",
   "execution_count": 101,
   "id": "312e0753-c134-445b-9729-07edd3202637",
   "metadata": {},
   "outputs": [
    {
     "data": {
      "text/html": [
       "<div>\n",
       "<style scoped>\n",
       "    .dataframe tbody tr th:only-of-type {\n",
       "        vertical-align: middle;\n",
       "    }\n",
       "\n",
       "    .dataframe tbody tr th {\n",
       "        vertical-align: top;\n",
       "    }\n",
       "\n",
       "    .dataframe thead th {\n",
       "        text-align: right;\n",
       "    }\n",
       "</style>\n",
       "<table border=\"1\" class=\"dataframe\">\n",
       "  <thead>\n",
       "    <tr style=\"text-align: right;\">\n",
       "      <th></th>\n",
       "      <th>customer_id</th>\n",
       "      <th>amount</th>\n",
       "    </tr>\n",
       "  </thead>\n",
       "  <tbody>\n",
       "    <tr>\n",
       "      <th>0</th>\n",
       "      <td>user_1</td>\n",
       "      <td>20</td>\n",
       "    </tr>\n",
       "    <tr>\n",
       "      <th>1</th>\n",
       "      <td>user_1</td>\n",
       "      <td>75</td>\n",
       "    </tr>\n",
       "    <tr>\n",
       "      <th>2</th>\n",
       "      <td>user_1</td>\n",
       "      <td>150</td>\n",
       "    </tr>\n",
       "    <tr>\n",
       "      <th>3</th>\n",
       "      <td>user_2</td>\n",
       "      <td>50</td>\n",
       "    </tr>\n",
       "    <tr>\n",
       "      <th>4</th>\n",
       "      <td>user_2</td>\n",
       "      <td>60</td>\n",
       "    </tr>\n",
       "    <tr>\n",
       "      <th>5</th>\n",
       "      <td>user_2</td>\n",
       "      <td>110</td>\n",
       "    </tr>\n",
       "    <tr>\n",
       "      <th>6</th>\n",
       "      <td>user_3</td>\n",
       "      <td>25</td>\n",
       "    </tr>\n",
       "    <tr>\n",
       "      <th>7</th>\n",
       "      <td>user_3</td>\n",
       "      <td>55</td>\n",
       "    </tr>\n",
       "    <tr>\n",
       "      <th>8</th>\n",
       "      <td>user_3</td>\n",
       "      <td>120</td>\n",
       "    </tr>\n",
       "  </tbody>\n",
       "</table>\n",
       "</div>"
      ],
      "text/plain": [
       "  customer_id  amount\n",
       "0      user_1      20\n",
       "1      user_1      75\n",
       "2      user_1     150\n",
       "3      user_2      50\n",
       "4      user_2      60\n",
       "5      user_2     110\n",
       "6      user_3      25\n",
       "7      user_3      55\n",
       "8      user_3     120"
      ]
     },
     "execution_count": 101,
     "metadata": {},
     "output_type": "execute_result"
    }
   ],
   "source": [
    "df"
   ]
  },
  {
   "cell_type": "code",
   "execution_count": 111,
   "id": "532d5a1d-5d47-4d0e-ab61-1b834e794152",
   "metadata": {},
   "outputs": [],
   "source": [
    "df_agg = df.groupby('customer_id').agg(['sum', 'mean']).reset_index()"
   ]
  },
  {
   "cell_type": "code",
   "execution_count": 113,
   "id": "81d83523-6def-4115-a192-378bae9efda2",
   "metadata": {},
   "outputs": [
    {
     "data": {
      "text/plain": [
       "MultiIndex([('customer_id',     ''),\n",
       "            (     'amount',  'sum'),\n",
       "            (     'amount', 'mean')],\n",
       "           )"
      ]
     },
     "execution_count": 113,
     "metadata": {},
     "output_type": "execute_result"
    }
   ],
   "source": [
    "df_agg.columns"
   ]
  },
  {
   "cell_type": "code",
   "execution_count": 115,
   "id": "8b04850c-7f29-4670-98d8-d2b66ceb1518",
   "metadata": {},
   "outputs": [
    {
     "data": {
      "text/plain": [
       "0    1.5\n",
       "1    3.0\n",
       "2    1.5\n",
       "3    5.0\n",
       "4    4.0\n",
       "dtype: float64"
      ]
     },
     "execution_count": 115,
     "metadata": {},
     "output_type": "execute_result"
    }
   ],
   "source": [
    "# Rank data\n",
    "\n",
    "# Sample data\n",
    "data = pd.Series([100, 200, 100, 300, 250])\n",
    "\n",
    "# Different ranking methods\n",
    "data.rank(method='average')  # average rank\n"
   ]
  },
  {
   "cell_type": "code",
   "execution_count": 116,
   "id": "022fffb8-93ac-4c8d-a354-5a7e870c0891",
   "metadata": {},
   "outputs": [
    {
     "data": {
      "text/plain": [
       "0    1.0\n",
       "1    3.0\n",
       "2    1.0\n",
       "3    5.0\n",
       "4    4.0\n",
       "dtype: float64"
      ]
     },
     "execution_count": 116,
     "metadata": {},
     "output_type": "execute_result"
    }
   ],
   "source": [
    "data.rank(method='min')      # min rank\n"
   ]
  },
  {
   "cell_type": "code",
   "execution_count": 117,
   "id": "03e69764-b4b0-4a71-b49f-05d93f5ad784",
   "metadata": {},
   "outputs": [
    {
     "data": {
      "text/plain": [
       "0    2.0\n",
       "1    3.0\n",
       "2    2.0\n",
       "3    5.0\n",
       "4    4.0\n",
       "dtype: float64"
      ]
     },
     "execution_count": 117,
     "metadata": {},
     "output_type": "execute_result"
    }
   ],
   "source": [
    "data.rank(method='max')      # max rank\n"
   ]
  },
  {
   "cell_type": "code",
   "execution_count": 118,
   "id": "8a4b33d3-0005-45cb-93ca-d29365116e52",
   "metadata": {},
   "outputs": [
    {
     "data": {
      "text/plain": [
       "0    1.0\n",
       "1    3.0\n",
       "2    2.0\n",
       "3    5.0\n",
       "4    4.0\n",
       "dtype: float64"
      ]
     },
     "execution_count": 118,
     "metadata": {},
     "output_type": "execute_result"
    }
   ],
   "source": [
    "data.rank(method='first')    # rank by order of appearance\n"
   ]
  },
  {
   "cell_type": "code",
   "execution_count": 119,
   "id": "cd70603e-f647-4b0f-9c86-f475c229bf33",
   "metadata": {},
   "outputs": [
    {
     "data": {
      "text/plain": [
       "0    1.0\n",
       "1    2.0\n",
       "2    1.0\n",
       "3    4.0\n",
       "4    3.0\n",
       "dtype: float64"
      ]
     },
     "execution_count": 119,
     "metadata": {},
     "output_type": "execute_result"
    }
   ],
   "source": [
    "data.rank(method='dense')    # dense rank"
   ]
  },
  {
   "cell_type": "markdown",
   "id": "9c59adfa-e652-4d22-93f3-717f7189de76",
   "metadata": {},
   "source": [
    "# Lists"
   ]
  },
  {
   "cell_type": "code",
   "execution_count": 3,
   "id": "3c9ffcba-2648-43cc-b735-fe01586147df",
   "metadata": {},
   "outputs": [],
   "source": [
    "my_list = [1, 2, 3, 4, 5]"
   ]
  },
  {
   "cell_type": "code",
   "execution_count": 5,
   "id": "26686b51-c622-4139-b17d-7790569653b2",
   "metadata": {},
   "outputs": [
    {
     "data": {
      "text/plain": [
       "1"
      ]
     },
     "execution_count": 5,
     "metadata": {},
     "output_type": "execute_result"
    }
   ],
   "source": [
    "# first element\n",
    "my_list[0]"
   ]
  },
  {
   "cell_type": "code",
   "execution_count": 12,
   "id": "f2845263-c2e2-4829-a5ee-96e0b2d48971",
   "metadata": {},
   "outputs": [
    {
     "data": {
      "text/plain": [
       "5"
      ]
     },
     "execution_count": 12,
     "metadata": {},
     "output_type": "execute_result"
    }
   ],
   "source": [
    "# last element\n",
    "my_list[-1]"
   ]
  },
  {
   "cell_type": "code",
   "execution_count": 13,
   "id": "727a9e06-3ce9-41cc-bdcb-53f2fe10bedc",
   "metadata": {},
   "outputs": [
    {
     "data": {
      "text/plain": [
       "[2, 3]"
      ]
     },
     "execution_count": 13,
     "metadata": {},
     "output_type": "execute_result"
    }
   ],
   "source": [
    "# 2nd and 3rd element\n",
    "my_list[1:3]"
   ]
  },
  {
   "cell_type": "code",
   "execution_count": 14,
   "id": "87e09348-0b76-4516-88db-97a78d83f6c0",
   "metadata": {},
   "outputs": [],
   "source": [
    "# add to end of list\n",
    "my_list.append(6)"
   ]
  },
  {
   "cell_type": "code",
   "execution_count": 15,
   "id": "69c469ae-3eac-4de9-9736-1db59134e4c1",
   "metadata": {},
   "outputs": [
    {
     "data": {
      "text/plain": [
       "[1, 2, 3, 4, 5, 6]"
      ]
     },
     "execution_count": 15,
     "metadata": {},
     "output_type": "execute_result"
    }
   ],
   "source": [
    "my_list"
   ]
  },
  {
   "cell_type": "code",
   "execution_count": 17,
   "id": "ed816dee-c36f-4c3c-8b0d-184de8886dfe",
   "metadata": {},
   "outputs": [
    {
     "data": {
      "text/plain": [
       "[1, 2, 99, 3, 4, 5, 6]"
      ]
     },
     "execution_count": 17,
     "metadata": {},
     "output_type": "execute_result"
    }
   ],
   "source": [
    "# add a number at plact to in list\n",
    "my_list.insert(2,99)\n",
    "my_list"
   ]
  },
  {
   "cell_type": "code",
   "execution_count": 18,
   "id": "f48d3672-ee3c-411d-b634-9ec300fb4130",
   "metadata": {},
   "outputs": [
    {
     "data": {
      "text/plain": [
       "6"
      ]
     },
     "execution_count": 18,
     "metadata": {},
     "output_type": "execute_result"
    }
   ],
   "source": [
    "# remove last element\n",
    "my_list.pop()\n",
    "my_list"
   ]
  },
  {
   "cell_type": "code",
   "execution_count": 20,
   "id": "72224fd8-2e89-4f0c-90ae-5358dcc1a0d5",
   "metadata": {},
   "outputs": [
    {
     "data": {
      "text/plain": [
       "[1, 2, 3, 4, 5]"
      ]
     },
     "execution_count": 20,
     "metadata": {},
     "output_type": "execute_result"
    }
   ],
   "source": [
    "# remove index 2 element\n",
    "my_list.pop(2)\n",
    "my_list"
   ]
  },
  {
   "cell_type": "code",
   "execution_count": 31,
   "id": "00ffa3a2-468a-4c87-9c5a-ef765a5cacb8",
   "metadata": {},
   "outputs": [
    {
     "data": {
      "text/plain": [
       "[1, 2, 4, 5, 3]"
      ]
     },
     "execution_count": 31,
     "metadata": {},
     "output_type": "execute_result"
    }
   ],
   "source": [
    "# remove elemnet with value 3\n",
    "my_list.remove(3)\n",
    "my_list"
   ]
  },
  {
   "cell_type": "code",
   "execution_count": 66,
   "id": "ff9c1308-4dc6-4489-8e78-13ae0458b846",
   "metadata": {},
   "outputs": [
    {
     "data": {
      "text/plain": [
       "[1]"
      ]
     },
     "execution_count": 66,
     "metadata": {},
     "output_type": "execute_result"
    }
   ],
   "source": [
    "# LIFO\n",
    "stack = []\n",
    "stack.append(1)\n",
    "stack.append(2)\n",
    "stack.pop()\n",
    "stack"
   ]
  },
  {
   "cell_type": "code",
   "execution_count": 76,
   "id": "58fd548b-e538-4448-bc6e-7c0a90140619",
   "metadata": {},
   "outputs": [],
   "source": [
    "# sort\n",
    "my_list = [5,3,1,4,2]\n",
    "my_list.sort(reverse = True)"
   ]
  },
  {
   "cell_type": "code",
   "execution_count": 79,
   "id": "655b2563-4da0-4883-854b-9166a3d17976",
   "metadata": {},
   "outputs": [
    {
     "data": {
      "text/plain": [
       "[5, 4, 3, 2, 1]"
      ]
     },
     "execution_count": 79,
     "metadata": {},
     "output_type": "execute_result"
    }
   ],
   "source": [
    "my_list"
   ]
  },
  {
   "cell_type": "code",
   "execution_count": 83,
   "id": "f539fec9-791c-4e9d-b271-6ff155fe9c0d",
   "metadata": {},
   "outputs": [
    {
     "data": {
      "text/html": [
       "<div>\n",
       "<style scoped>\n",
       "    .dataframe tbody tr th:only-of-type {\n",
       "        vertical-align: middle;\n",
       "    }\n",
       "\n",
       "    .dataframe tbody tr th {\n",
       "        vertical-align: top;\n",
       "    }\n",
       "\n",
       "    .dataframe thead th {\n",
       "        text-align: right;\n",
       "    }\n",
       "</style>\n",
       "<table border=\"1\" class=\"dataframe\">\n",
       "  <thead>\n",
       "    <tr style=\"text-align: right;\">\n",
       "      <th></th>\n",
       "      <th>col</th>\n",
       "    </tr>\n",
       "  </thead>\n",
       "  <tbody>\n",
       "    <tr>\n",
       "      <th>0</th>\n",
       "      <td>5</td>\n",
       "    </tr>\n",
       "    <tr>\n",
       "      <th>1</th>\n",
       "      <td>4</td>\n",
       "    </tr>\n",
       "    <tr>\n",
       "      <th>2</th>\n",
       "      <td>3</td>\n",
       "    </tr>\n",
       "    <tr>\n",
       "      <th>3</th>\n",
       "      <td>2</td>\n",
       "    </tr>\n",
       "    <tr>\n",
       "      <th>4</th>\n",
       "      <td>1</td>\n",
       "    </tr>\n",
       "  </tbody>\n",
       "</table>\n",
       "</div>"
      ],
      "text/plain": [
       "   col\n",
       "0    5\n",
       "1    4\n",
       "2    3\n",
       "3    2\n",
       "4    1"
      ]
     },
     "execution_count": 83,
     "metadata": {},
     "output_type": "execute_result"
    }
   ],
   "source": [
    "# list to df\n",
    "pd.DataFrame(my_list, columns=['col'])"
   ]
  },
  {
   "cell_type": "code",
   "execution_count": 84,
   "id": "4cecec7d-c94a-4d52-875e-680743ad3823",
   "metadata": {},
   "outputs": [
    {
     "data": {
      "text/plain": [
       "1"
      ]
     },
     "execution_count": 84,
     "metadata": {},
     "output_type": "execute_result"
    }
   ],
   "source": [
    "# count occurence\n",
    "my_list.count(4)"
   ]
  },
  {
   "cell_type": "code",
   "execution_count": 92,
   "id": "16cb8a4e-d05f-4ad5-9b21-6502a86b1d64",
   "metadata": {},
   "outputs": [
    {
     "data": {
      "text/plain": [
       "[0, 1, 2, 3, 4]"
      ]
     },
     "execution_count": 92,
     "metadata": {},
     "output_type": "execute_result"
    }
   ],
   "source": [
    "# uniqe values (set)\n",
    "dup_list = [0,0,1,1,1,2,2,3,3,4]\n",
    "list(set(dup_list))"
   ]
  },
  {
   "cell_type": "code",
   "execution_count": 96,
   "id": "89c06e48-69aa-4f58-bfb3-4437b03913f5",
   "metadata": {},
   "outputs": [
    {
     "data": {
      "text/plain": [
       "10"
      ]
     },
     "execution_count": 96,
     "metadata": {},
     "output_type": "execute_result"
    }
   ],
   "source": [
    "# num vals in list\n",
    "len(dup_list)"
   ]
  },
  {
   "cell_type": "code",
   "execution_count": 99,
   "id": "555a7b83-030b-4c9a-a2cb-98ad95205352",
   "metadata": {},
   "outputs": [
    {
     "data": {
      "text/plain": [
       "[0, 1, 2, 3]"
      ]
     },
     "execution_count": 99,
     "metadata": {},
     "output_type": "execute_result"
    }
   ],
   "source": [
    "# get duplicates in list\n",
    "from collections import Counter \n",
    "counts = Counter(dup_list) # gets counts\n",
    "[num for num,count in counts.items() if count > 1]"
   ]
  },
  {
   "cell_type": "code",
   "execution_count": 103,
   "id": "16319318-0315-4736-805d-fc717819e06e",
   "metadata": {},
   "outputs": [
    {
     "data": {
      "text/plain": [
       "[0, 1, 2, 3]"
      ]
     },
     "execution_count": 103,
     "metadata": {},
     "output_type": "execute_result"
    }
   ],
   "source": [
    "# get duplicates in list\n",
    "seen = set()\n",
    "duplicate = set()\n",
    "\n",
    "for i in dup_list:\n",
    "    if i in seen:\n",
    "        duplicate.add(i)\n",
    "    else:\n",
    "        seen.add(i)\n",
    "\n",
    "list(duplicate)"
   ]
  },
  {
   "cell_type": "code",
   "execution_count": 105,
   "id": "4c129994-dc78-46db-9cfb-ce017b9a8c24",
   "metadata": {},
   "outputs": [
    {
     "data": {
      "text/plain": [
       "{0: 2, 1: 3, 2: 2, 3: 2, 4: 1}"
      ]
     },
     "execution_count": 105,
     "metadata": {},
     "output_type": "execute_result"
    }
   ],
   "source": [
    "# count of occurences of each in list\n",
    "counts = {}\n",
    "for num in dup_list:\n",
    "    if num in counts:\n",
    "        counts[num] += 1\n",
    "    else:\n",
    "        counts[num] = 1\n",
    "counts"
   ]
  },
  {
   "cell_type": "code",
   "execution_count": 115,
   "id": "7909ef35-a5ff-4452-9338-813f068e4f97",
   "metadata": {},
   "outputs": [
    {
     "data": {
      "text/plain": [
       "1"
      ]
     },
     "execution_count": 115,
     "metadata": {},
     "output_type": "execute_result"
    }
   ],
   "source": [
    "a = [1,3,5,6]\n",
    "b = 2\n",
    "a.append(b)\n",
    "a.sort()\n",
    "a.index(b)"
   ]
  },
  {
   "cell_type": "code",
   "execution_count": 29,
   "id": "a9afe046-005f-4609-abe4-7ebb04c9ab57",
   "metadata": {},
   "outputs": [],
   "source": [
    "# list comp\n",
    "[i ** 2 for i in my_list]"
   ]
  },
  {
   "cell_type": "code",
   "execution_count": 134,
   "id": "f8292ec2-a76d-44a7-b2f9-5f55679c71b5",
   "metadata": {},
   "outputs": [
    {
     "data": {
      "text/plain": [
       "[5, 7, 9]"
      ]
     },
     "execution_count": 134,
     "metadata": {},
     "output_type": "execute_result"
    }
   ],
   "source": [
    "# how to add value to evertying in list. add to lists together\n",
    "list1 = [1, 2, 3]\n",
    "list2 = [4, 5, 6]\n",
    "\n",
    "list3 = [list1[i] + list2[i] for i in range(len(list1))]\n",
    "list3"
   ]
  },
  {
   "cell_type": "code",
   "execution_count": 136,
   "id": "e4c1c0ed-a598-452d-8ec1-e3865aadea2e",
   "metadata": {},
   "outputs": [
    {
     "data": {
      "text/html": [
       "<div>\n",
       "<style scoped>\n",
       "    .dataframe tbody tr th:only-of-type {\n",
       "        vertical-align: middle;\n",
       "    }\n",
       "\n",
       "    .dataframe tbody tr th {\n",
       "        vertical-align: top;\n",
       "    }\n",
       "\n",
       "    .dataframe thead th {\n",
       "        text-align: right;\n",
       "    }\n",
       "</style>\n",
       "<table border=\"1\" class=\"dataframe\">\n",
       "  <thead>\n",
       "    <tr style=\"text-align: right;\">\n",
       "      <th></th>\n",
       "      <th>Col1</th>\n",
       "      <th>Col2</th>\n",
       "    </tr>\n",
       "  </thead>\n",
       "  <tbody>\n",
       "    <tr>\n",
       "      <th>0</th>\n",
       "      <td>1</td>\n",
       "      <td>a</td>\n",
       "    </tr>\n",
       "    <tr>\n",
       "      <th>1</th>\n",
       "      <td>2</td>\n",
       "      <td>b</td>\n",
       "    </tr>\n",
       "    <tr>\n",
       "      <th>2</th>\n",
       "      <td>3</td>\n",
       "      <td>c</td>\n",
       "    </tr>\n",
       "  </tbody>\n",
       "</table>\n",
       "</div>"
      ],
      "text/plain": [
       "   Col1 Col2\n",
       "0     1    a\n",
       "1     2    b\n",
       "2     3    c"
      ]
     },
     "execution_count": 136,
     "metadata": {},
     "output_type": "execute_result"
    }
   ],
   "source": [
    "# make two lists a df\n",
    "list1 = [1, 2, 3]\n",
    "list2 = ['a', 'b', 'c']\n",
    "\n",
    "df = pd.DataFrame({\n",
    "    'Col1': list1,\n",
    "    'Col2': list2\n",
    "})\n",
    "df"
   ]
  },
  {
   "cell_type": "code",
   "execution_count": 165,
   "id": "44b530d8-a49b-47ec-bb5b-11705161432c",
   "metadata": {},
   "outputs": [
    {
     "data": {
      "text/plain": [
       "3"
      ]
     },
     "execution_count": 165,
     "metadata": {},
     "output_type": "execute_result"
    }
   ],
   "source": [
    "# find the missing number in the list\n",
    "lst = [1, 2, 4, 5, 6]\n",
    "\n",
    "# get the sum of all numbers in the list if not missing\n",
    "all_num_sum = sum(range(max(lst)+1))\n",
    "# get the sum of all number in the list if missing\n",
    "lst_sum = sum(lst)\n",
    "missing = all_num_sum - lst_sum\n",
    "missing"
   ]
  },
  {
   "cell_type": "code",
   "execution_count": 170,
   "id": "850a8f30-62d8-4d09-a9e7-b0b6a9fd5b2c",
   "metadata": {},
   "outputs": [
    {
     "data": {
      "text/plain": [
       "[4, 5, 1, 2, 3]"
      ]
     },
     "execution_count": 170,
     "metadata": {},
     "output_type": "execute_result"
    }
   ],
   "source": [
    "# rotate list by k steps\n",
    "lst = [1, 2, 3, 4, 5]\n",
    "k = 2\n",
    "lst[-k:] + lst[:-k]\n"
   ]
  },
  {
   "cell_type": "code",
   "execution_count": 171,
   "id": "9b28cef6-e548-4c5d-b24b-795dbfdc4998",
   "metadata": {},
   "outputs": [
    {
     "data": {
      "text/plain": [
       "'e'"
      ]
     },
     "execution_count": 171,
     "metadata": {},
     "output_type": "execute_result"
    }
   ],
   "source": [
    "a = 'hello'\n",
    "a[1]"
   ]
  },
  {
   "cell_type": "code",
   "execution_count": 196,
   "id": "611fa683-c089-4bd6-8d47-a87719324d99",
   "metadata": {},
   "outputs": [
    {
     "data": {
      "text/plain": [
       "[3, 4, 5, 6, 7]"
      ]
     },
     "execution_count": 196,
     "metadata": {},
     "output_type": "execute_result"
    }
   ],
   "source": [
    "# use map to apply a function\n",
    "def add_two(num):\n",
    "    return num+2\n",
    "\n",
    "numbers = [1, 2, 3, 4, 5]\n",
    "\n",
    "list(map(add_two, numbers))"
   ]
  },
  {
   "cell_type": "markdown",
   "id": "4687e953-4f08-4fc8-8de0-c707032db24f",
   "metadata": {},
   "source": [
    "# Dictionary"
   ]
  },
  {
   "cell_type": "code",
   "execution_count": 32,
   "id": "da4ecd8e-0670-45e3-9876-93fab2019a5b",
   "metadata": {},
   "outputs": [],
   "source": [
    "my_dict = {\"name\": \"Shane\", \"age\": 30, \"job\": \"Data Scientist\"}"
   ]
  },
  {
   "cell_type": "code",
   "execution_count": 33,
   "id": "e6bd4b6a-b23f-4042-abcd-0a68bfc6ddc0",
   "metadata": {},
   "outputs": [
    {
     "data": {
      "text/plain": [
       "{'name': 'Shane', 'age': 30, 'job': 'Data Scientist'}"
      ]
     },
     "execution_count": 33,
     "metadata": {},
     "output_type": "execute_result"
    }
   ],
   "source": [
    "my_dict"
   ]
  },
  {
   "cell_type": "code",
   "execution_count": 36,
   "id": "32877dcf-d44d-4493-888c-830dc13f4376",
   "metadata": {},
   "outputs": [
    {
     "data": {
      "text/plain": [
       "'Shane'"
      ]
     },
     "execution_count": 36,
     "metadata": {},
     "output_type": "execute_result"
    }
   ],
   "source": [
    "# get name value\n",
    "my_dict['name']"
   ]
  },
  {
   "cell_type": "code",
   "execution_count": 39,
   "id": "430a5b82-cae4-4faa-bafe-ca25fb141b3d",
   "metadata": {},
   "outputs": [],
   "source": [
    "# add city\n",
    "my_dict['town'] = 'Tahoe'"
   ]
  },
  {
   "cell_type": "code",
   "execution_count": 42,
   "id": "0dbb9c4b-dc2c-46a3-92d1-1133eef46942",
   "metadata": {},
   "outputs": [],
   "source": [
    "# update city\n",
    "my_dict['town'] = 'SLT'"
   ]
  },
  {
   "cell_type": "code",
   "execution_count": 43,
   "id": "7feb7d14-7e39-4e66-9beb-4840bb86fe72",
   "metadata": {},
   "outputs": [
    {
     "data": {
      "text/plain": [
       "{'name': 'Shane', 'age': 30, 'job': 'Data Scientist', 'town': 'SLT'}"
      ]
     },
     "execution_count": 43,
     "metadata": {},
     "output_type": "execute_result"
    }
   ],
   "source": [
    "my_dict"
   ]
  },
  {
   "cell_type": "code",
   "execution_count": 44,
   "id": "c3b9939d-a3ef-4255-98bf-fab3e636d654",
   "metadata": {},
   "outputs": [
    {
     "data": {
      "text/plain": [
       "{'name': 'Shane', 'age': 30, 'job': 'Data Scientist'}"
      ]
     },
     "execution_count": 44,
     "metadata": {},
     "output_type": "execute_result"
    }
   ],
   "source": [
    "# delete city\n",
    "del my_dict['town']\n",
    "my_dict"
   ]
  },
  {
   "cell_type": "code",
   "execution_count": 48,
   "id": "4736d522-546f-4685-a332-6338212332f6",
   "metadata": {},
   "outputs": [
    {
     "data": {
      "text/plain": [
       "dict_items([('name', 'Shane'), ('age', 30), ('job', 'Data Scientist')])"
      ]
     },
     "execution_count": 48,
     "metadata": {},
     "output_type": "execute_result"
    }
   ],
   "source": [
    "my_dict.items()"
   ]
  },
  {
   "cell_type": "code",
   "execution_count": 60,
   "id": "e6b6575b-42e3-4c0d-8654-7657269265ca",
   "metadata": {},
   "outputs": [
    {
     "name": "stdout",
     "output_type": "stream",
     "text": [
      "name: Shane\n",
      "age: 30\n",
      "job: Data Scientist\n"
     ]
    }
   ],
   "source": [
    "# loop through dict\n",
    "for key, value in my_dict.items():\n",
    "    print(key + ': ' + str(value))"
   ]
  },
  {
   "cell_type": "code",
   "execution_count": 133,
   "id": "1162458d-eb6e-4dd8-bab4-057e17ee97c9",
   "metadata": {},
   "outputs": [
    {
     "data": {
      "text/plain": [
       "3"
      ]
     },
     "execution_count": 133,
     "metadata": {},
     "output_type": "execute_result"
    }
   ],
   "source": [
    "# get key of max value\n",
    "nums = [2,2,1,1,1,2,2,3,3,3,3,3,3,3,3,3,3,3,4,4]\n",
    "item_counts = {}\n",
    "for i in nums:\n",
    "    if i in item_counts:\n",
    "        item_counts[i] = item_counts[i] + 1\n",
    "    else:\n",
    "        item_counts[i] = 1\n",
    "max(item_counts, key=item_counts.get)"
   ]
  },
  {
   "cell_type": "code",
   "execution_count": 139,
   "id": "8cc39251-ae3a-47d2-900e-f588054913cb",
   "metadata": {},
   "outputs": [
    {
     "data": {
      "text/html": [
       "<div>\n",
       "<style scoped>\n",
       "    .dataframe tbody tr th:only-of-type {\n",
       "        vertical-align: middle;\n",
       "    }\n",
       "\n",
       "    .dataframe tbody tr th {\n",
       "        vertical-align: top;\n",
       "    }\n",
       "\n",
       "    .dataframe thead th {\n",
       "        text-align: right;\n",
       "    }\n",
       "</style>\n",
       "<table border=\"1\" class=\"dataframe\">\n",
       "  <thead>\n",
       "    <tr style=\"text-align: right;\">\n",
       "      <th></th>\n",
       "      <th>col1</th>\n",
       "      <th>col2</th>\n",
       "      <th>col3</th>\n",
       "    </tr>\n",
       "  </thead>\n",
       "  <tbody>\n",
       "    <tr>\n",
       "      <th>0</th>\n",
       "      <td>1</td>\n",
       "      <td>2</td>\n",
       "      <td>3</td>\n",
       "    </tr>\n",
       "    <tr>\n",
       "      <th>1</th>\n",
       "      <td>4</td>\n",
       "      <td>5</td>\n",
       "      <td>6</td>\n",
       "    </tr>\n",
       "  </tbody>\n",
       "</table>\n",
       "</div>"
      ],
      "text/plain": [
       "   col1  col2  col3\n",
       "0     1     2     3\n",
       "1     4     5     6"
      ]
     },
     "execution_count": 139,
     "metadata": {},
     "output_type": "execute_result"
    }
   ],
   "source": [
    "# dict to df\n",
    "dict1 = {'col1': 1, 'col2': 2, 'col3': 3}\n",
    "dict2 = {'col1': 4, 'col2': 5, 'col3': 6}\n",
    "\n",
    "df = pd.DataFrame([dict1, dict2])\n",
    "df"
   ]
  },
  {
   "cell_type": "code",
   "execution_count": 176,
   "id": "0028d8ba-8d5d-4782-b01d-7b9bc71686e0",
   "metadata": {},
   "outputs": [
    {
     "data": {
      "text/plain": [
       "{'a': 1, 'b': 5, 'c': 4}"
      ]
     },
     "execution_count": 176,
     "metadata": {},
     "output_type": "execute_result"
    }
   ],
   "source": [
    "# merge two dicionarries\n",
    "dict1 = {'a': 1, 'b': 2}\n",
    "dict2 = {'b': 3, 'c': 4}\n",
    "\n",
    "dict_merged = dict1.copy()\n",
    "for key,value in dict2.items():\n",
    "    if key in dict_merged:\n",
    "        dict_merged[key] += value\n",
    "    else:\n",
    "        dict_merged[key] = value\n",
    "\n",
    "dict_merged"
   ]
  },
  {
   "cell_type": "code",
   "execution_count": 180,
   "id": "3f67d0b8-e231-47d9-8669-debff0586c42",
   "metadata": {},
   "outputs": [
    {
     "data": {
      "text/plain": [
       "{1: 'a', 2: 'b', 3: 'c'}"
      ]
     },
     "execution_count": 180,
     "metadata": {},
     "output_type": "execute_result"
    }
   ],
   "source": [
    "# invert dictionary\n",
    "d = {'a': 1, 'b': 2, 'c': 3}\n",
    "{value:key for key,value in d.items()}"
   ]
  },
  {
   "cell_type": "code",
   "execution_count": 181,
   "id": "63435cbb-8d4d-4ce5-98dc-2c43c5d65fb7",
   "metadata": {},
   "outputs": [
    {
     "data": {
      "text/plain": [
       "{'apple': 3, 'banana': 2, 'orange': 1}"
      ]
     },
     "execution_count": 181,
     "metadata": {},
     "output_type": "execute_result"
    }
   ],
   "source": [
    "# takes a list of words and returns a dictionary where the keys are the words and the values count appeared\n",
    "words = [\"apple\", \"banana\", \"apple\", \"orange\", \"banana\", \"apple\"]\n",
    "\n",
    "# init dict\n",
    "word_count = {}\n",
    "# count first time seen\n",
    "# add 1 if seen already\n",
    "\n",
    "for word in words:\n",
    "    if word in word_count:\n",
    "        word_count[word] +=1\n",
    "    else:\n",
    "        word_count[word] = 1\n",
    "\n",
    "word_count\n"
   ]
  },
  {
   "cell_type": "code",
   "execution_count": 194,
   "id": "de11a581-fc1b-4157-a5e8-9317cdb39762",
   "metadata": {},
   "outputs": [
    {
     "data": {
      "text/plain": [
       "{'b': 3, 'a': 2, 'c': 1}"
      ]
     },
     "execution_count": 194,
     "metadata": {},
     "output_type": "execute_result"
    }
   ],
   "source": [
    "# sort dict\n",
    "my_dict = {'a': 2, 'c': 1, 'b': 3}\n",
    "# keys\n",
    "dict(sorted(my_dict.items()))\n",
    "# values (descending)\n",
    "dict(sorted(my_dict.items(), key=lambda item: item[1], reverse=True))"
   ]
  },
  {
   "cell_type": "code",
   "execution_count": 193,
   "id": "5eb5363e-dbf7-4009-91c1-99eb1115e5e2",
   "metadata": {},
   "outputs": [
    {
     "data": {
      "text/plain": [
       "{'b': 3, 'a': 2, 'c': 1}"
      ]
     },
     "execution_count": 193,
     "metadata": {},
     "output_type": "execute_result"
    }
   ],
   "source": []
  },
  {
   "cell_type": "code",
   "execution_count": 198,
   "id": "48371dfa-208e-4e08-a444-39425f799030",
   "metadata": {},
   "outputs": [
    {
     "data": {
      "text/html": [
       "<div>\n",
       "<style scoped>\n",
       "    .dataframe tbody tr th:only-of-type {\n",
       "        vertical-align: middle;\n",
       "    }\n",
       "\n",
       "    .dataframe tbody tr th {\n",
       "        vertical-align: top;\n",
       "    }\n",
       "\n",
       "    .dataframe thead th {\n",
       "        text-align: right;\n",
       "    }\n",
       "</style>\n",
       "<table border=\"1\" class=\"dataframe\">\n",
       "  <thead>\n",
       "    <tr style=\"text-align: right;\">\n",
       "      <th></th>\n",
       "      <th>city</th>\n",
       "      <th>city_full</th>\n",
       "    </tr>\n",
       "  </thead>\n",
       "  <tbody>\n",
       "    <tr>\n",
       "      <th>0</th>\n",
       "      <td>NY</td>\n",
       "      <td>New York</td>\n",
       "    </tr>\n",
       "    <tr>\n",
       "      <th>1</th>\n",
       "      <td>LA</td>\n",
       "      <td>Los Angeles</td>\n",
       "    </tr>\n",
       "    <tr>\n",
       "      <th>2</th>\n",
       "      <td>SF</td>\n",
       "      <td>San Francisco</td>\n",
       "    </tr>\n",
       "    <tr>\n",
       "      <th>3</th>\n",
       "      <td>NY</td>\n",
       "      <td>New York</td>\n",
       "    </tr>\n",
       "    <tr>\n",
       "      <th>4</th>\n",
       "      <td>LA</td>\n",
       "      <td>Los Angeles</td>\n",
       "    </tr>\n",
       "  </tbody>\n",
       "</table>\n",
       "</div>"
      ],
      "text/plain": [
       "  city      city_full\n",
       "0   NY       New York\n",
       "1   LA    Los Angeles\n",
       "2   SF  San Francisco\n",
       "3   NY       New York\n",
       "4   LA    Los Angeles"
      ]
     },
     "execution_count": 198,
     "metadata": {},
     "output_type": "execute_result"
    }
   ],
   "source": [
    "# map values to a df from a dict\n",
    "df = pd.DataFrame({\n",
    "    'city': ['NY', 'LA', 'SF', 'NY', 'LA']\n",
    "})\n",
    "\n",
    "# Dictionary to map cities to full names\n",
    "city_map = {'NY': 'New York', 'LA': 'Los Angeles', 'SF': 'San Francisco'}\n",
    "\n",
    "df['city_full'] = df['city'].map(city_map)\n",
    "df"
   ]
  },
  {
   "cell_type": "code",
   "execution_count": 200,
   "id": "57a9d383-356f-4164-8478-b011fe191893",
   "metadata": {},
   "outputs": [
    {
     "data": {
      "text/plain": [
       "['New York', 'Los Angeles', 'San Francisco', 'New York', 'Los Angeles']"
      ]
     },
     "execution_count": 200,
     "metadata": {},
     "output_type": "execute_result"
    }
   ],
   "source": [
    "# map dict to list \n",
    "# map values to a df from a dict\n",
    "city_list =  ['NY', 'LA', 'SF', 'NY', 'LA']\n",
    "\n",
    "# Dictionary to map cities to full names\n",
    "city_map = {'NY': 'New York', 'LA': 'Los Angeles', 'SF': 'San Francisco'}\n",
    "\n",
    "[city_map[i] for i in city_list]"
   ]
  },
  {
   "cell_type": "code",
   "execution_count": 204,
   "id": "cedeb0f8-45f3-474a-a3ef-e07fc0b7d535",
   "metadata": {},
   "outputs": [
    {
     "data": {
      "text/plain": [
       "'unknown'"
      ]
     },
     "execution_count": 204,
     "metadata": {},
     "output_type": "execute_result"
    }
   ],
   "source": [
    "# return unknown if key not in dict\n",
    "city_map.get('SB', 'unknown')"
   ]
  },
  {
   "cell_type": "code",
   "execution_count": null,
   "id": "c14b7af1-2749-44c2-81e9-27a8b56914ff",
   "metadata": {},
   "outputs": [],
   "source": []
  }
 ],
 "metadata": {
  "kernelspec": {
   "display_name": "Python 3 (ipykernel)",
   "language": "python",
   "name": "python3"
  },
  "language_info": {
   "codemirror_mode": {
    "name": "ipython",
    "version": 3
   },
   "file_extension": ".py",
   "mimetype": "text/x-python",
   "name": "python",
   "nbconvert_exporter": "python",
   "pygments_lexer": "ipython3",
   "version": "3.11.6"
  }
 },
 "nbformat": 4,
 "nbformat_minor": 5
}
